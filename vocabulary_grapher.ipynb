{
  "nbformat": 4,
  "nbformat_minor": 0,
  "metadata": {
    "colab": {
      "provenance": []
    },
    "kernelspec": {
      "name": "python3",
      "display_name": "Python 3"
    },
    "language_info": {
      "name": "python"
    }
  },
  "cells": [
    {
      "cell_type": "code",
      "execution_count": 3,
      "metadata": {
        "id": "ev-_tVS_LI3a"
      },
      "outputs": [],
      "source": [
        "# Loading data\n",
        "import json, urllib.request\n",
        "\n",
        "def load_words():\n",
        "    with urllib.request.urlopen('https://raw.githubusercontent.com/dwyl/english-words/master/words_dictionary.json') as file:\n",
        "        words = json.loads(file.read().decode())\n",
        "\n",
        "    return words"
      ]
    },
    {
      "cell_type": "code",
      "source": [
        "dict_words = load_words()\n",
        "# dict_words"
      ],
      "metadata": {
        "id": "PtIrz2aIjjjb"
      },
      "execution_count": 10,
      "outputs": []
    },
    {
      "cell_type": "code",
      "source": [
        "centre_word = \"happy\"\n",
        "axis_words = [\"formal\", \"enthusiastic\", \"mellow\"]"
      ],
      "metadata": {
        "id": "LAZQEYooo1OZ"
      },
      "execution_count": 11,
      "outputs": []
    },
    {
      "cell_type": "code",
      "source": [
        "n = len(axis_words)\n",
        "axis_word_pos = {}\n",
        "for i in range(n):\n",
        "  v = [0 for j in range(n)]\n",
        "  v[i] = 1\n",
        "  axis_word_pos[axis_words[i]] = v\n",
        "\n",
        "axis_word_pos"
      ],
      "metadata": {
        "colab": {
          "base_uri": "https://localhost:8080/"
        },
        "id": "PqJL5lAvpzzc",
        "outputId": "7cef790c-4b05-4e79-afa0-3c1aa0125567"
      },
      "execution_count": 12,
      "outputs": [
        {
          "output_type": "execute_result",
          "data": {
            "text/plain": [
              "{'formal': [1, 0, 0], 'enthusiastic': [0, 1, 0], 'mellow': [0, 0, 1]}"
            ]
          },
          "metadata": {},
          "execution_count": 12
        }
      ]
    },
    {
      "cell_type": "code",
      "source": [],
      "metadata": {
        "id": "lywmK5HYvXq1"
      },
      "execution_count": null,
      "outputs": []
    }
  ]
}